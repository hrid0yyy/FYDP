{
 "cells": [
  {
   "cell_type": "code",
   "execution_count": null,
   "metadata": {},
   "outputs": [
    {
     "name": "stdout",
     "output_type": "stream",
     "text": [
      "Overall Formants: F1 = 769.10 Hz, F2 = 1716.11 Hz, F3 = 2732.33 Hz\n"
     ]
    }
   ],
   "source": [
    "import parselmouth\n",
    "import numpy as np\n",
    "\n",
    "def get_overall_formants(audio_path):\n",
    "    sound = parselmouth.Sound(audio_path)\n",
    "    formant = sound.to_formant_burg(time_step=0.01, max_number_of_formants=8, window_length=0.025, maximum_formant=8000)\n",
    "\n",
    "    formant_values = [[] for _ in range(8)]  # Create 8 empty lists for F1–F8\n",
    "\n",
    "    for t in formant.xs():\n",
    "        for i in range(8):  # Extract F1 to F8\n",
    "            f_val = formant.get_value_at_time(i + 1, t)\n",
    "            if f_val:  # Only append valid formant values\n",
    "                formant_values[i].append(f_val)\n",
    "\n",
    "    # Compute the mean of each formant (F1–F8)\n",
    "    mean_formants = [np.mean(f_vals) if f_vals else None for f_vals in formant_values]\n",
    "\n",
    "    return mean_formants\n",
    "\n",
    "# Example usage\n",
    "audio_file = \"audio/emon-bangla.wav\"\n",
    "overall_formants = get_overall_formants(audio_file)\n",
    "\n",
    "# Print the formants\n",
    "formant_labels = [\"F1\", \"F2\", \"F3\", \"F4\", \"F5\", \"F6\", \"F7\", \"F8\"]\n",
    "for i, formant in enumerate(overall_formants):\n",
    "    print(f\"{formant_labels[i]}: {formant:.2f} Hz\")\n"
   ]
  }
 ],
 "metadata": {
  "kernelspec": {
   "display_name": "Python 3",
   "language": "python",
   "name": "python3"
  },
  "language_info": {
   "codemirror_mode": {
    "name": "ipython",
    "version": 3
   },
   "file_extension": ".py",
   "mimetype": "text/x-python",
   "name": "python",
   "nbconvert_exporter": "python",
   "pygments_lexer": "ipython3",
   "version": "3.11.9"
  }
 },
 "nbformat": 4,
 "nbformat_minor": 2
}
