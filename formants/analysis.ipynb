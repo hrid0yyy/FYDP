{
 "cells": [
  {
   "cell_type": "code",
   "execution_count": 1,
   "metadata": {},
   "outputs": [
    {
     "name": "stdout",
     "output_type": "stream",
     "text": [
      "Formant results saved to formant_results.csv\n"
     ]
    }
   ],
   "source": [
    "import parselmouth\n",
    "import numpy as np\n",
    "import os\n",
    "import csv\n",
    "\n",
    "def get_overall_formants(audio_path):\n",
    "    sound = parselmouth.Sound(audio_path)\n",
    "    formant = sound.to_formant_burg(time_step=0.01, max_number_of_formants=8, window_length=0.025, maximum_formant=8000)\n",
    "\n",
    "    formant_values = [[] for _ in range(8)]  # Create 8 empty lists for F1–F8\n",
    "\n",
    "    for t in formant.xs():\n",
    "        for i in range(8):  # Extract F1 to F8\n",
    "            f_val = formant.get_value_at_time(i + 1, t)\n",
    "            if f_val:  # Only append valid formant values\n",
    "                formant_values[i].append(f_val)\n",
    "\n",
    "    # Compute the mean of each formant (F1–F8)\n",
    "    mean_formants = [np.mean(f_vals) if f_vals else None for f_vals in formant_values]\n",
    "\n",
    "    return mean_formants\n",
    "\n",
    "# Folder containing audio files\n",
    "audio_folder = \"audio/\"\n",
    "audio_files = [f for f in os.listdir(audio_folder) if f.endswith(\".wav\")]\n",
    "\n",
    "# Output CSV file\n",
    "csv_file = \"formant_results.csv\"\n",
    "\n",
    "# Write results to CSV\n",
    "with open(csv_file, mode=\"w\", newline=\"\") as file:\n",
    "    writer = csv.writer(file)\n",
    "    \n",
    "    # Write header row\n",
    "    header = [\"Filename\", \"F1\", \"F2\", \"F3\", \"F4\", \"F5\", \"F6\", \"F7\", \"F8\"]\n",
    "    writer.writerow(header)\n",
    "\n",
    "    # Process each file in the folder\n",
    "    for file_name in audio_files:\n",
    "        file_path = os.path.join(audio_folder, file_name)\n",
    "        overall_formants = get_overall_formants(file_path)\n",
    "\n",
    "        # Write data row\n",
    "        writer.writerow([file_name] + overall_formants)\n",
    "\n",
    "print(f\"Formant results saved to {csv_file}\")\n"
   ]
  }
 ],
 "metadata": {
  "kernelspec": {
   "display_name": "Python 3",
   "language": "python",
   "name": "python3"
  },
  "language_info": {
   "codemirror_mode": {
    "name": "ipython",
    "version": 3
   },
   "file_extension": ".py",
   "mimetype": "text/x-python",
   "name": "python",
   "nbconvert_exporter": "python",
   "pygments_lexer": "ipython3",
   "version": "3.11.9"
  }
 },
 "nbformat": 4,
 "nbformat_minor": 2
}
